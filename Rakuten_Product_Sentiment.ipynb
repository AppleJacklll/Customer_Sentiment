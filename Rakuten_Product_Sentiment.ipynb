{
 "cells": [
  {
   "cell_type": "code",
   "execution_count": 94,
   "metadata": {},
   "outputs": [],
   "source": [
    "#pip install selenium==4.9.0"
   ]
  },
  {
   "cell_type": "code",
   "execution_count": 13,
   "metadata": {},
   "outputs": [
    {
     "name": "stdout",
     "output_type": "stream",
     "text": [
      "0.0\n"
     ]
    }
   ],
   "source": [
    "from selenium import webdriver\n",
    "from selenium.webdriver.chrome.service import Service\n",
    "from selenium.webdriver.common.by import By\n",
    "from selenium.webdriver.chrome.options import Options\n",
    "from selenium.webdriver.support.ui import WebDriverWait\n",
    "from selenium.webdriver.support import expected_conditions as EC\n",
    "import time\n",
    "import requests\n",
    "from bs4 import BeautifulSoup\n",
    "import pandas as pd\n",
    "from groq import Groq\n",
    "import sqlite3\n",
    "\n",
    "import time\n",
    "\n",
    "url = \"https://item.rakuten.co.jp/tansu/43500002/\"\n",
    "\n",
    "def move_to_reviews(url):\n",
    "    # driver = webdriver.Chrome(executable_path=\"chromedriver.exe\")\n",
    "     \n",
    "    chrome_options = Options()\n",
    "    \n",
    "    \n",
    "    chrome_options.add_argument(\"--headless\")\n",
    "    driver = webdriver.Chrome(options=chrome_options)\n",
    "    \n",
    "    \n",
    "    driver.get(f\"{url}\")\n",
    "    \n",
    "    WebDriverWait(driver, 2).until(\n",
    "        EC.presence_of_all_elements_located((By.PARTIAL_LINK_TEXT, \"件）\")))\n",
    "    \n",
    "    link_element = driver.find_element(By.PARTIAL_LINK_TEXT, \"件）\")\n",
    "    link_url = link_element.get_attribute('href').split('1.1')[0]\n",
    "\n",
    "    time.sleep(2)\n",
    "    driver.quit()\n",
    "\n",
    "    return link_url\n",
    "\n",
    "url_link = move_to_reviews(url)\n"
   ]
  },
  {
   "cell_type": "code",
   "execution_count": 20,
   "metadata": {},
   "outputs": [
    {
     "name": "stdout",
     "output_type": "stream",
     "text": [
      "Time to initialize driver: 1.0378897190093994 seconds\n",
      "Time to navigate to URL: 16.163315057754517 seconds\n",
      "Time to wait for element: 0.038630008697509766 seconds\n",
      "Time to find element: 0.02902674674987793 seconds\n",
      "Time to get attribute and process URL: 0.013146638870239258 seconds\n",
      "Time to sleep for 2 seconds: 2.0012168884277344 seconds\n",
      "Time to quit driver: 3.9014110565185547 seconds\n",
      "Total time to run function: 23.184636116027832 seconds\n"
     ]
    }
   ],
   "source": [
    "from selenium import webdriver\n",
    "from selenium.webdriver.chrome.service import Service\n",
    "from selenium.webdriver.common.by import By\n",
    "from selenium.webdriver.chrome.options import Options\n",
    "from selenium.webdriver.support.ui import WebDriverWait\n",
    "from selenium.webdriver.support import expected_conditions as EC\n",
    "import time\n",
    "import requests\n",
    "from bs4 import BeautifulSoup\n",
    "import pandas as pd\n",
    "from groq import Groq\n",
    "import sqlite3\n",
    "\n",
    "import time\n",
    "\n",
    "def move_to_reviews(url):\n",
    "    start_time = time.time()\n",
    "\n",
    "    chrome_options = Options()\n",
    "    chrome_options.add_argument(\"--headless\")\n",
    "    chrome_options.add_argument(\"--disable-gpu\")\n",
    "    chrome_options.add_argument(\"--disable-extensions\")\n",
    "    chrome_options.add_argument(\"--no-sandbox\")\n",
    "    chrome_options.add_argument(\"--disable-dev-shm-usage\")\n",
    "    chrome_options.add_argument(\"--disable-images\")\n",
    "    chrome_options.add_argument(\"--disable-javascript\")\n",
    "    chrome_options.add_argument(\"--disable-plugins\")\n",
    "    chrome_options.add_argument(\"--enable-fast-unload\")\n",
    "    chrome_options.add_argument(\"--disable-popup-blocking\")\n",
    "    chrome_options.add_argument(\"--disable-notifications\")\n",
    "    chrome_options.add_argument(\"--disable-background-networking\")\n",
    "    chrome_options.add_argument(\"--disable-background-timer-throttling\")\n",
    "    chrome_options.add_argument(\"--disable-backgrounding-occluded-windows\")\n",
    "    chrome_options.add_argument(\"--disable-client-side-phishing-detection\")\n",
    "    chrome_options.add_argument(\"--disable-hang-monitor\")\n",
    "    chrome_options.add_argument(\"--disable-prompt-on-repost\")\n",
    "    chrome_options.add_argument(\"--disable-sync\")\n",
    "    chrome_options.add_argument(\"--disable-translate\")\n",
    "    chrome_options.add_argument(\"--metrics-recording-only\")\n",
    "    chrome_options.add_argument(\"--safebrowsing-disable-auto-update\")\n",
    "    chrome_options.add_argument(\"--disable-voice-input\")\n",
    "\n",
    "    # Disable images\n",
    "    prefs = {\"profile.managed_default_content_settings.images\": 2}\n",
    "    chrome_options.add_experimental_option(\"prefs\", prefs)\n",
    "    \n",
    "    driver = webdriver.Chrome(options=chrome_options)\n",
    "\n",
    "    init_driver_time = time.time()\n",
    "    print(f\"Time to initialize driver: {init_driver_time - start_time} seconds\")\n",
    "\n",
    "    driver.get(f\"{url}\")\n",
    "\n",
    "    navigate_url_time = time.time()\n",
    "    print(f\"Time to navigate to URL: {navigate_url_time - init_driver_time} seconds\")\n",
    "\n",
    "    WebDriverWait(driver, 2).until(\n",
    "        EC.presence_of_all_elements_located((By.PARTIAL_LINK_TEXT, \"件）\"))\n",
    "    )\n",
    "\n",
    "    wait_for_element_time = time.time()\n",
    "    print(f\"Time to wait for element: {wait_for_element_time - navigate_url_time} seconds\")\n",
    "\n",
    "    link_element = driver.find_element(By.PARTIAL_LINK_TEXT, \"件）\")\n",
    "    find_element_time = time.time()\n",
    "    print(f\"Time to find element: {find_element_time - wait_for_element_time} seconds\")\n",
    "\n",
    "    link_url = link_element.get_attribute('href').split('1.1')[0]\n",
    "    get_attribute_time = time.time()\n",
    "    print(f\"Time to get attribute and process URL: {get_attribute_time - find_element_time} seconds\")\n",
    "\n",
    "    time.sleep(2)\n",
    "    sleep_time = time.time()\n",
    "    print(f\"Time to sleep for 2 seconds: {sleep_time - get_attribute_time} seconds\")\n",
    "\n",
    "    driver.quit()\n",
    "    quit_driver_time = time.time()\n",
    "    print(f\"Time to quit driver: {quit_driver_time - sleep_time} seconds\")\n",
    "\n",
    "    print(f\"Total time to run function: {quit_driver_time - start_time} seconds\")\n",
    "\n",
    "    return link_url\n",
    "\n",
    "# Example usage\n",
    "url_link = move_to_reviews(url)\n"
   ]
  },
  {
   "cell_type": "code",
   "execution_count": 21,
   "metadata": {},
   "outputs": [
    {
     "data": {
      "text/plain": [
       "{'product_name': 'グーン まっさらさら通気／ぐんぐん吸収 パンツ ディズニー(3個)【mmw】【グーン(GOO.N)】[オムツ 紙おむつ 紙オムツ]',\n",
       " 'product_image': 'https://thumbnail.image.rakuten.co.jp/@0_mall/netbaby/cabinet/196/404196.jpg?_ex=180x180',\n",
       " 'product_price': '4,899円',\n",
       " 'total_reviews': '2,610'}"
      ]
     },
     "execution_count": 21,
     "metadata": {},
     "output_type": "execute_result"
    }
   ],
   "source": [
    "def get_soup(link_url):\n",
    "    response = requests.get(link_url)\n",
    "    soup = BeautifulSoup(response.text, \"html.parser\")\n",
    "    return soup\n",
    "\n",
    "\n",
    "def product_details(soup):\n",
    "    total_reviews = soup.find(\"span\", {\"class\": \"Count\"}).text.strip()\n",
    "    price = soup.find(\"span\", {\"revPrice\"}).text.strip()\n",
    "    product = soup.find(\"h2\", {\"class\": \"revItemTtl\"}).text.strip()\n",
    "    img_tag = soup.select_one('#thumbWindow img')\n",
    "    if img_tag:\n",
    "        image_link = img_tag.get('src')\n",
    "\n",
    "    details = {\n",
    "        'product_name': product,\n",
    "        'product_image': image_link,\n",
    "        'product_price': price + '円',\n",
    "        'total_reviews': total_reviews\n",
    "    }\n",
    "\n",
    "    return details\n",
    "\n",
    "k = get_soup(url_link)\n",
    "y = product_details(k)\n",
    "y "
   ]
  },
  {
   "cell_type": "code",
   "execution_count": 17,
   "metadata": {},
   "outputs": [
    {
     "name": "stdout",
     "output_type": "stream",
     "text": [
      "['https://review.rakuten.co.jp/item/1/212232_10027922/1.1/', 'https://review.rakuten.co.jp/item/1/212232_10027922/2.1/', 'https://review.rakuten.co.jp/item/1/212232_10027922/3.1/', 'https://review.rakuten.co.jp/item/1/212232_10027922/4.1/', 'https://review.rakuten.co.jp/item/1/212232_10027922/5.1/', 'https://review.rakuten.co.jp/item/1/212232_10027922/6.1/', 'https://review.rakuten.co.jp/item/1/212232_10027922/7.1/', 'https://review.rakuten.co.jp/item/1/212232_10027922/8.1/', 'https://review.rakuten.co.jp/item/1/212232_10027922/9.1/', 'https://review.rakuten.co.jp/item/1/212232_10027922/10.1/', 'https://review.rakuten.co.jp/item/1/212232_10027922/11.1/']\n"
     ]
    }
   ],
   "source": [
    "def page_jumper(num_pages, url_link):\n",
    "    soup = get_soup(url_link)\n",
    "    total_reviews = int(soup.find(\"span\", {\"class\": \"Count\"}).text.strip().replace(',', ''))\n",
    "\n",
    "    total_pages = int(total_reviews)/15\n",
    "    pages = num_pages\n",
    "\n",
    "    link_list = []\n",
    "    if pages < total_pages:\n",
    "        for i in range(pages):\n",
    "            link_list.append(f\"{url_link}{i+1}.1/\")\n",
    "        return link_list\n",
    "    else:\n",
    "        return \"Number of pages doesn't exist\"\n",
    "\n",
    "links = page_jumper(11, url_link)\n",
    "print(links)"
   ]
  },
  {
   "cell_type": "code",
   "execution_count": 4,
   "metadata": {},
   "outputs": [],
   "source": [
    "def product_reviews(link_list):\n",
    "    reviewlist = []\n",
    "    \n",
    "    for link in link_list:\n",
    "        soup = get_soup(link)\n",
    "        reviews = soup.find_all(\"div\", {\"class\": \"revRvwUserSec\"})\n",
    "        \n",
    "        for item in reviews:\n",
    "            review = {\n",
    "            'rating': float(item.find(\"span\", {\"class\":\"revUserRvwerNum\"}).text.strip()),\n",
    "            'date': item.find(\"span\", {\"class\":\"revUserEntryDate\"}).text.strip(),\n",
    "            'body': item.find(\"dd\", {\"class\":\"revRvwUserEntryCmt\"}).text.strip(),\n",
    "            }\n",
    "            reviewlist.append(review)\n",
    "    return reviewlist\n",
    "    \n",
    "\n",
    "reviews = product_reviews(links)"
   ]
  },
  {
   "cell_type": "code",
   "execution_count": 5,
   "metadata": {},
   "outputs": [
    {
     "name": "stdout",
     "output_type": "stream",
     "text": [
      "0      前回の期間限定トイストーリー柄良かったな。ずっとＭサイズでプーさん柄で、Lにサイズアップして...\n",
      "1      20％ポイントバックがある楽天セール期間中に、500円OFFクーポンを使ってお得に購入した。...\n",
      "2      前回の期間限定トイストーリー柄良かったな。ずっとＭサイズでプーさん柄で、Lにサイズアップして...\n",
      "3      1歳3か月（女の子）、体重約9kgです。\\nいつも1枚あたりが一番安いオムツを楽天で買ってい...\n",
      "4      ポリマーの違いなどはわかりませんが、旧製品より肌触りが良くふわふわになったと思います。（試し...\n",
      "                             ...                        \n",
      "160           スパセでポイントバックがあり、実質安く買えました！\\n届くのも早くて助かりましたー！\n",
      "161                                 購入から到着までとても早く助かりました。\n",
      "162                  即日発送して頂けたようで2日で届きました。\\nありがとうございました。\n",
      "163    セールでお得に購入。ポイント還元とか色々考えて計算すると、近所のドラストとかよりもお得だった...\n",
      "164            ポイントバックがある時に買っています！\\n郵送して貰えるし、とても助かっています！\n",
      "Name: body, Length: 165, dtype: object\n"
     ]
    }
   ],
   "source": [
    "def convert_to_df(reviews):\n",
    "    df_reviews = pd.DataFrame(reviews)\n",
    "    descriptions = df_reviews['body']\n",
    "    return descriptions\n",
    "\n",
    "desc = convert_to_df(reviews)\n",
    "print(desc)"
   ]
  },
  {
   "cell_type": "code",
   "execution_count": 6,
   "metadata": {},
   "outputs": [
    {
     "name": "stdout",
     "output_type": "stream",
     "text": [
      "**General Sentiment:**\n",
      "\n",
      "The general sentiment regarding the product is overwhelmingly positive. Customers are satisfied with their purchase, citing benefits such as:\n",
      "\n",
      "* Good value for money\n",
      "* Fast delivery\n",
      "* Comfortable and soft product ( likely a diaper or clothing item)\n",
      "* Convenience of online shopping\n",
      "* Benefits of point-back systems and coupons\n",
      "\n",
      "**Suggestions for Improvement:**\n",
      "\n",
      "Based on the customer feedback, here are some suggestions for improvement:\n",
      "\n",
      "1. **Expand Size Options:** One customer mentioned wanting to size up from M to L, implying that offering more size options could be beneficial.\n",
      "2. **Material Quality:** While customers appreciate the comfort and softness of the product, some may be interested in understanding the differences between materials (e.g., polymers). Providing education on this aspect could enhance customer satisfaction.\n",
      "3. **Wider Product Range:** Customers may appreciate a broader range of products, as they seem to be interested in purchasing from the same brand.\n",
      "4. **Enhance Point-Back Systems:** Since customers appreciate point-back systems and coupons, consider expanding or improving these offerings to incentivize repeat business.\n",
      "5. **Fast and Reliable Shipping:** Faster shipping options and reliable delivery times are crucial, as customers appreciate quick arrival of their products.\n",
      "\n",
      "**Suggestions to Increase Sales and Get Better Reviews:**\n",
      "\n",
      "1. **Targeted Promotions:** Offer targeted promotions, such as point-back systems and coupons, to specific customer segments to encourage repeat business.\n",
      "2. **Influencer Marketing:** Partner with influencers who align with your target audience to showcase your products and build brand awareness.\n",
      "3. **Product Education:** Provide detailed product information, including material education, to empower customers to make informed purchasing decisions.\n",
      "4. **Loyalty Programs:** Implement a loyalty program that rewards customers for repeat purchases, fostering a loyal customer base.\n",
      "5. **Streamlined Online Shopping Experience:** Ensure a seamless online shopping experience, including easy navigation, easy checkout, and clear product information, to reduce cart abandonment and increase customer satisfaction.\n",
      "\n",
      "By implementing these suggestions, you can improve customer satisfaction, increase sales, and attract more positive reviews.\n"
     ]
    }
   ],
   "source": [
    "import os\n",
    "def sentiment(descriptions):\n",
    "    client = Groq(\n",
    "        api_key=os.environ.get(\"GROQ_API_KEY\"),\n",
    "    )\n",
    "\n",
    "    chat_completion = client.chat.completions.create(\n",
    "        messages=[\n",
    "            {\n",
    "                \"role\": \"user\",\n",
    "                \"content\": f\"Analyzing the {descriptions} give me the general sentiment regarding the product and suggestions for how to imporve the product, increase the sales and get better reviews\",\n",
    "            }\n",
    "        ],\n",
    "        model=\"llama3-70b-8192\",\n",
    "    )\n",
    "    return chat_completion.choices[0].message.content\n",
    "\n",
    "\n",
    "sentiments = sentiment(desc)\n",
    "print(sentiments)"
   ]
  },
  {
   "cell_type": "code",
   "execution_count": 7,
   "metadata": {},
   "outputs": [
    {
     "name": "stdout",
     "output_type": "stream",
     "text": [
      "     rating                                               body\n",
      "0       5.0  前回の期間限定トイストーリー柄良かったな。ずっとＭサイズでプーさん柄で、Lにサイズアップして...\n",
      "1       5.0  20％ポイントバックがある楽天セール期間中に、500円OFFクーポンを使ってお得に購入した。...\n",
      "2       5.0  前回の期間限定トイストーリー柄良かったな。ずっとＭサイズでプーさん柄で、Lにサイズアップして...\n",
      "3       5.0  1歳3か月（女の子）、体重約9kgです。\\nいつも1枚あたりが一番安いオムツを楽天で買ってい...\n",
      "4       5.0  ポリマーの違いなどはわかりませんが、旧製品より肌触りが良くふわふわになったと思います。（試し...\n",
      "..      ...                                                ...\n",
      "160     5.0         スパセでポイントバックがあり、実質安く買えました！\\n届くのも早くて助かりましたー！\n",
      "161     5.0                               購入から到着までとても早く助かりました。\n",
      "162     5.0                即日発送して頂けたようで2日で届きました。\\nありがとうございました。\n",
      "163     5.0  セールでお得に購入。ポイント還元とか色々考えて計算すると、近所のドラストとかよりもお得だった...\n",
      "164     4.0          ポイントバックがある時に買っています！\\n郵送して貰えるし、とても助かっています！\n",
      "\n",
      "[165 rows x 2 columns]\n"
     ]
    }
   ],
   "source": [
    "def convert_to_df(reviews):\n",
    "    df_reviews = pd.DataFrame(reviews)\n",
    "    conn = sqlite3.connect('rakuten_reviews.db')\n",
    "    df_reviews.to_sql('reviews', conn, if_exists='replace', index=False)\n",
    "    conn.close()\n",
    "    \n",
    "def query_db():\n",
    "    conn = sqlite3.connect('rakuten_reviews.db')\n",
    "    df_reviews = pd.read_sql_query('SELECT rating, body FROM reviews', conn)\n",
    "    conn.close()\n",
    "    return df_reviews\n",
    "\n",
    "convert_to_df(reviews)\n",
    "df_from_db = query_db()\n",
    "print(df_from_db)"
   ]
  },
  {
   "cell_type": "code",
   "execution_count": null,
   "metadata": {},
   "outputs": [],
   "source": [
    "# def product_reviews(soup):\n",
    "\n",
    "#     revi`ews = soup.find_all(\"div\", {\"class\": \"revRvwUserSec\"})\n",
    "#     reviewlist = []\n",
    "#     for item in reviews:\n",
    "#         review = {\n",
    "#         'rating': float(item.find(\"span\", {\"class\":\"revUserRvwerNum\"}).text.strip()),\n",
    "#         'date': item.find(\"span\", {\"class\":\"revUserEntryDate\"}).text.strip(),\n",
    "#         'body': item.find(\"dd\", {\"class\":\"revRvwUserEntryCmt\"}).text.strip(),\n",
    "#         }\n",
    "#         reviewlist.append(review)\n",
    "\n",
    "#     reviews = {\n",
    "#         'product_reviews': reviewlist\n",
    "#     }\n",
    "#     return reviews"
   ]
  },
  {
   "cell_type": "code",
   "execution_count": 79,
   "metadata": {},
   "outputs": [],
   "source": [
    "# def getnextpage(soup):\n",
    "#     page = soup.find(\"div\", {\"class\":\"revPagination\"})\n",
    "    \n",
    "#     if page.find(\"div\", {\"class\":\"revThisPage\"}):\n",
    "#         url = page.find(\"div\", {\"class\":\"revPagination\"}).find('a')['href']\n",
    "#         return url\n",
    "#     else:\n",
    "#         return \n"
   ]
  },
  {
   "cell_type": "code",
   "execution_count": 4,
   "metadata": {},
   "outputs": [],
   "source": [
    "# link_url = move_to_reviews(url)\n",
    "# soup = get_soup(link_url)\n",
    "# product = product_details(soup)\n",
    "# reviews = product_reviews(soup)\n",
    "\n"
   ]
  },
  {
   "cell_type": "code",
   "execution_count": null,
   "metadata": {},
   "outputs": [],
   "source": [
    "# response = requests.get(url)\n",
    "# print(response.text)\n",
    "\n",
    "# headers = {\n",
    "#     \"authority\":\"item.rakuten.co.jp\",\n",
    "#     \"Accept\":\"text/html,application/xhtml+xml,application/xml;q=0.9,image/avif,image/webp,image/apng,*/*;q=0.8,application/signed-exchange;v=b3;q=0.7\",\n",
    "#     \"Accept-Language\":\"en-US,en;q=0.9\",\n",
    "#     \"Sec-Ch-Ua\": '\"Opera\";v=\"109\", \"Not:A-Brand\";v=\"8\", \"Chromium\";v=\"123\"',\n",
    "#     \"User-Agent\":\"Mozilla/5.0 (Linux; Android 6.0; Nexus 5 Build/MRA58N) AppleWebKit/537.36 (KHTML, like Gecko) Chrome/123.0.0.0 Mobile Safari/537.36\",  \n",
    "# }\n",
    "\n",
    "# url = 'https://item.rakuten.co.jp/kabegamiyahonpo/rkwp-4999set7/'"
   ]
  },
  {
   "cell_type": "code",
   "execution_count": null,
   "metadata": {},
   "outputs": [],
   "source": []
  },
  {
   "cell_type": "code",
   "execution_count": null,
   "metadata": {},
   "outputs": [],
   "source": []
  },
  {
   "cell_type": "code",
   "execution_count": null,
   "metadata": {},
   "outputs": [],
   "source": []
  },
  {
   "cell_type": "code",
   "execution_count": null,
   "metadata": {},
   "outputs": [],
   "source": []
  },
  {
   "cell_type": "code",
   "execution_count": null,
   "metadata": {},
   "outputs": [],
   "source": []
  },
  {
   "cell_type": "code",
   "execution_count": null,
   "metadata": {},
   "outputs": [],
   "source": []
  },
  {
   "cell_type": "code",
   "execution_count": null,
   "metadata": {},
   "outputs": [],
   "source": []
  },
  {
   "cell_type": "code",
   "execution_count": null,
   "metadata": {},
   "outputs": [],
   "source": []
  },
  {
   "cell_type": "code",
   "execution_count": null,
   "metadata": {},
   "outputs": [],
   "source": []
  },
  {
   "cell_type": "code",
   "execution_count": null,
   "metadata": {},
   "outputs": [],
   "source": []
  },
  {
   "cell_type": "code",
   "execution_count": null,
   "metadata": {},
   "outputs": [],
   "source": []
  },
  {
   "cell_type": "code",
   "execution_count": null,
   "metadata": {},
   "outputs": [],
   "source": []
  },
  {
   "cell_type": "code",
   "execution_count": null,
   "metadata": {},
   "outputs": [],
   "source": []
  },
  {
   "cell_type": "code",
   "execution_count": null,
   "metadata": {},
   "outputs": [],
   "source": []
  },
  {
   "cell_type": "code",
   "execution_count": null,
   "metadata": {},
   "outputs": [],
   "source": []
  },
  {
   "cell_type": "code",
   "execution_count": null,
   "metadata": {},
   "outputs": [],
   "source": []
  },
  {
   "cell_type": "code",
   "execution_count": null,
   "metadata": {},
   "outputs": [],
   "source": [
    "class ProductDetailsAndReviews:\n",
    "    def __init__(self, soup):\n",
    "        self.soup = soup\n",
    "\n",
    "    def get_product_details(self):\n",
    "        product = self.soup.find(\"h2\", {\"class\": \"revItemTtl\"}).text.strip()\n",
    "        img_tag = self.soup.select_one('#thumbWindow img')\n",
    "        image_link = img_tag.get('src') if img_tag else None\n",
    "\n",
    "        details = {\n",
    "            'product_name': product,\n",
    "            'product_image': image_link,\n",
    "        }\n",
    "\n",
    "        return details\n",
    "\n",
    "    def get_product_reviews(self):\n",
    "        reviews = self.soup.find_all(\"div\", {\"class\": \"revRvwUserSec\"})\n",
    "        review_list = []\n",
    "        for item in reviews:\n",
    "            review = {\n",
    "                'rating': float(item.find(\"span\", {\"class\":\"revUserRvwerNum\"}).text.strip()),\n",
    "                'date': item.find(\"span\", {\"class\":\"revUserEntryDate\"}).text.strip(),\n",
    "                'body': item.find(\"dd\", {\"class\":\"revRvwUserEntryCmt\"}).text.strip(),\n",
    "            }\n",
    "            review_list.append(review)\n",
    "\n",
    "        reviews = {\n",
    "            'product_reviews': review_list\n",
    "        }\n",
    "\n",
    "        return reviews\n",
    "\n",
    "# Usage\n",
    "product_details_and_reviews = ProductDetailsAndReviews(soup)\n",
    "details = product_details_and_reviews.get_product_details()\n",
    "reviews = product_details_and_reviews.get_product_reviews()\n"
   ]
  }
 ],
 "metadata": {
  "kernelspec": {
   "display_name": ".venv",
   "language": "python",
   "name": "python3"
  },
  "language_info": {
   "codemirror_mode": {
    "name": "ipython",
    "version": 3
   },
   "file_extension": ".py",
   "mimetype": "text/x-python",
   "name": "python",
   "nbconvert_exporter": "python",
   "pygments_lexer": "ipython3",
   "version": "3.12.3"
  }
 },
 "nbformat": 4,
 "nbformat_minor": 2
}
